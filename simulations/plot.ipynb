{
 "cells": [
  {
   "cell_type": "code",
   "execution_count": 1,
   "metadata": {},
   "outputs": [
    {
     "name": "stdout",
     "output_type": "stream",
     "text": [
      "Finished reading grid.\n",
      "1\n",
      "Constructed figure, starting loop.\n"
     ]
    }
   ],
   "source": [
    "import numpy as np\n",
    "import h5py\n",
    "import matplotlib.pyplot as plt\n",
    "\n",
    "folder = '.'\n",
    "class Grid:\n",
    "    def __init__(self, xm, xmr, xc, xcr, ym, ymr, yc, ycr, zm, zmr):\n",
    "        self.xm = xm\n",
    "        self.xmr= xmr\n",
    "        self.xc = xc\n",
    "        self.xcr= xcr\n",
    "        self.ym = ym\n",
    "        self.ymr= ymr\n",
    "        self.yc = yc\n",
    "        self.ycr= ycr\n",
    "        self.zm = zm\n",
    "        self.zmr= zmr\n",
    "\n",
    "def read_grid(folder):\n",
    "    with h5py.File(folder+\"/outputdir/cordin_info.h5\",\"r\") as f:\n",
    "        xm = f[\"xm\"][()]\n",
    "        xmr = f[\"xmr\"][()]\n",
    "        xc = f[\"xc\"][()]\n",
    "        xcr = f[\"xcr\"][()]\n",
    "        ym = f[\"ym\"][()]\n",
    "        ymr = f[\"ymr\"][()]\n",
    "        zm = f[\"zm\"][()]\n",
    "        zmr = f[\"zmr\"][()]\n",
    "    dy, dyr = ym[1] - ym[0], ymr[1] - ymr[0]\n",
    "    yc, ycr = np.arange(0, dy*(ym.size+1), dy), np.arange(0, dyr*(ymr.size+1), dyr)\n",
    "    return Grid(xm, xmr, xc, xcr, ym, ymr, yc, ycr, zm, zmr)\n",
    "\n",
    "def read_zcut(folder, var, idx):\n",
    "    varname = var+\"/\"+\"%05d\" % idx\n",
    "    with h5py.File(folder+\"/outputdir/flowmov/movie_zcut.h5\",\"r\") as f:\n",
    "        A = f[varname][()]\n",
    "    return A\n",
    "\n",
    "def read_ycut(folder, var, idx):\n",
    "    varname = var+\"/\"+\"%05d\" % idx\n",
    "    with h5py.File(folder+\"/outputdir/flowmov/movie_ycut.h5\",\"r\") as f:\n",
    "        A = f[varname][()]\n",
    "    return A\n",
    "\n",
    "def count_samples(folder):\n",
    "    with h5py.File(folder+\"/outputdir/flowmov/movie_zcut.h5\",\"r\") as f:\n",
    "        Nsamp = len(f[\"temp\"].keys())\n",
    "    return Nsamp\n",
    "\n",
    "grid = read_grid(folder)\n",
    "print(\"Finished reading grid.\")\n",
    "\n",
    "Nsamp = count_samples(folder)\n",
    "Nsamp\n",
    "print(Nsamp)\n",
    "print(\"Constructed figure, starting loop.\")\n",
    "\n"
   ]
  },
  {
   "cell_type": "code",
   "execution_count": 2,
   "metadata": {},
   "outputs": [
    {
     "data": {
      "text/plain": [
       "(0.001953125, 1.998046875, 0.001953125, 0.998046875)"
      ]
     },
     "execution_count": 2,
     "metadata": {},
     "output_type": "execute_result"
    },
    {
     "data": {
      "image/png": "[encoded data removed]",
      "text/plain": [
       "<Figure size 600x600 with 1 Axes>"
      ]
     },
     "metadata": {},
     "output_type": "display_data"
    }
   ],
   "source": [
    "fig,ax=plt.subplots(figsize=(3,3),dpi=200)\n",
    "for i in range(Nsamp)[-1:]:\n",
    "    T = read_zcut(folder, \"temp\", i)\n",
    "    # phi = read_zcut(folder, \"phi\", i)\n",
    "    plt.contourf(grid.ym, grid.xm, T[:,:].T,400,vmin=0.0,vmax=1, cmap=\"Blues_r\")\n",
    "#    plt.colorbar()\n",
    "    # plt.contour(grid.ymr, grid.xmr, phi.T, levels=[0.5], colors=\"k\",linewidths=0.75)\n",
    "    # phi[phi<0.5]=np.nan\n",
    "    # plt.contourf(grid.ymr,grid.xmr,phi.T,vmin=0,vmax=1,cmap='gray')\n",
    "    plt.axis('equal')\n",
    "    plt.xlim(0.35,0.65)\n",
    "    plt.ylim(0.35,0.65)\n",
    "\n",
    "# for i in range(Nsamp)[1:5:1]:\n",
    "#     # phi = read_zcut(folder, \"phi\", i)\n",
    "#     plt.contour(grid.ymr, grid.xmr, phi.T, levels=[0.5], colors=\"k\",linewidths=0.5)\n",
    "\n",
    "plt.xticks([])\n",
    "plt.yticks([])\n",
    "plt.axis('equal')"
   ]
  },
  {
   "cell_type": "code",
   "execution_count": 11,
   "metadata": {},
   "outputs": [
    {
     "data": {
      "text/plain": [
       "3"
      ]
     },
     "execution_count": 11,
     "metadata": {},
     "output_type": "execute_result"
    }
   ],
   "source": [
    "Nsamp"
   ]
  },
  {
   "cell_type": "code",
   "execution_count": null,
   "metadata": {},
   "outputs": [],
   "source": []
  }
 ],
 "metadata": {
  "kernelspec": {
   "display_name": "Python 3",
   "language": "python",
   "name": "python3"
  },
  "language_info": {
   "codemirror_mode": {
    "name": "ipython",
    "version": 3
   },
   "file_extension": ".py",
   "mimetype": "text/x-python",
   "name": "python",
   "nbconvert_exporter": "python",
   "pygments_lexer": "ipython3",
   "version": "3.9.13"
  }
 },
 "nbformat": 4,
 "nbformat_minor": 2
}
